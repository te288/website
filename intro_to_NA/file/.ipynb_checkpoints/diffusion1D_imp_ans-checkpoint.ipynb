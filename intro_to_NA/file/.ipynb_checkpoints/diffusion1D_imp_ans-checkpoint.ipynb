{
 "cells": [
  {
   "cell_type": "code",
   "execution_count": 1,
   "id": "b83ae39e",
   "metadata": {},
   "outputs": [],
   "source": [
    "## Import Modules\n",
    "import numpy as np\n",
    "from scipy.sparse import spdiags\n",
    "import matplotlib.pyplot as plt"
   ]
  },
  {
   "cell_type": "code",
   "execution_count": 2,
   "id": "5ac0d80b",
   "metadata": {},
   "outputs": [],
   "source": [
    "def PlotSavefig(x, P, t, L):\n",
    "  # Function to Plot & Save Pressure\n",
    "  # fig = plt.figure()\n",
    "    plt.plot(x, P_new, label='t={0:05.2f}'.format(t)) \n",
    "    plt.xlabel('x[m]')\n",
    "    plt.ylabel('Pressure [Pa]')\n",
    "    plt.xlim(0, L)\n",
    "    plt.ylim(-1,1)\n",
    "    plt.grid()\n",
    "    plt.title('Pressure Diffusion 1D@{0:05.2f}[s]'.format(t))\n",
    "  # fig.savefig('t={0:05.2f}.png'.format(t)) #画像保存には20行目と21行目も実行\n",
    "  # plt.clf()"
   ]
  },
  {
   "cell_type": "code",
   "execution_count": 6,
   "id": "e6c64c45",
   "metadata": {},
   "outputs": [],
   "source": [
    "## Input Parmeters\n",
    "L   = 2*np.pi    # Length of Reservoir[m]\n",
    "N   = 100    # Number of Control Volume[-]\n",
    "k   = 0.2     # Permiability[m^2]\n",
    "A   = 1     # cross-sectional area of reservoir[m^2]\n",
    "phi = 1     # Porosity[-]\n",
    "c   = 1     # Compressibility[Pa^-1]\n",
    "mu  = 1     # Viscosity of Fluid[Pa*s]\n",
    "Q   = np.zeros(N) # Source vector[m^2]\n",
    "Tm  = np.zeros([N,N]) # transmissibility Matrix\n",
    "B   = np.zeros([N,N]) # Volume accumulation Matrix\n",
    "dx  = L/N # Size of Control Volume[m]\n",
    "x   = np.zeros(N) # x coordinate[m]\n",
    "x[0]= dx/2\n",
    "for i in range(1, N):\n",
    "  x[i] = x[i-1] + dx\n",
    "\n",
    "## Parameters for Simulation\n",
    "tmax = 20 # Time to stop simlation [s]\n",
    "dt   = 0.005   # dt [s]\n",
    "nout = 250  # output result ever nout step[s]\n",
    "# Variable to decide Boundary condition\n",
    "#  1> Neumann, 0> Dirichlet\n",
    "BC_right = 0 # Boundary at right(x = L) \n",
    "BC_left  = 0 # Boundary at Left (x = 0)\n",
    "Pb_right = 0 # Pressure Value at x = L\n",
    "Pb_left  = 0 # Pressure Value at x = 0\n",
    "\n",
    "## Initial Conditions\n",
    "# P_init = np.ones(N)      # Initial Pressure\n",
    "P_init = np.sin(x)"
   ]
  },
  {
   "cell_type": "code",
   "execution_count": 7,
   "id": "5fb60636",
   "metadata": {},
   "outputs": [],
   "source": [
    "## define Q, Tm, B\n",
    "\n",
    "# Tm\n",
    "T = k*A/(mu*dx)\n",
    "for i in range(0, N-1):\n",
    "    Tm[i,i]   = 2*T\n",
    "    Tm[i,i+1] = -T\n",
    "    Tm[i+1,i] = -T\n",
    "Tm[N-1, N-1] = 2*T\n",
    "\n",
    "# B\n",
    "for i in range(0, N):\n",
    "    B[i,i] = A*dx*phi*c/dt\n",
    "\n",
    "# Boundary Condition and Q\n",
    "if BC_left == 0:\n",
    "    Q[0] = 2*T*Pb_left\n",
    "    Tm[0,0] = 3*T\n",
    "if BC_right == 0:\n",
    "    Q[N-1] = 2*T*Pb_right\n",
    "    Tm[N-1,N-1] = 3*T\n",
    "    "
   ]
  },
  {
   "cell_type": "code",
   "execution_count": 8,
   "id": "37aff657",
   "metadata": {},
   "outputs": [
    {
     "name": "stdout",
     "output_type": "stream",
     "text": [
      "250th Time step 01.25\n",
      "500th Time step 02.50\n",
      "750th Time step 03.75\n",
      "1000th Time step 05.00\n",
      "1250th Time step 06.25\n",
      "1500th Time step 07.50\n",
      "1750th Time step 08.75\n",
      "2000th Time step 10.00\n",
      "2250th Time step 11.25\n",
      "2500th Time step 12.50\n",
      "2750th Time step 13.75\n",
      "3000th Time step 15.00\n",
      "3250th Time step 16.25\n",
      "3500th Time step 17.50\n",
      "3750th Time step 18.75\n"
     ]
    },
    {
     "data": {
      "image/png": "[encoded data removed]",
      "text/plain": [
       "<Figure size 432x288 with 1 Axes>"
      ]
     },
     "metadata": {
      "needs_background": "light"
     },
     "output_type": "display_data"
    }
   ],
   "source": [
    "## Simulation\n",
    "P_old  = np.copy(P_init) # Pressure at n-th step\n",
    "P_new  = np.copy(P_init) # Pressure at n+1-th step\n",
    "t = 0\n",
    "n = 0\n",
    "fig = plt.figure()\n",
    "# Plot Initial Condition\n",
    "PlotSavefig(x, P_new, t, L)\n",
    "while True:\n",
    "    # solve Simultaneous equations\n",
    "    P_new = np.linalg.solve((Tm + B), (np.dot(B,P_old)+Q)) \n",
    "    \n",
    "    # Update Values, time step and Add plot\n",
    "    P_old = np.copy(P_new)\n",
    "    t = t + dt\n",
    "    n = n + 1\n",
    "    \n",
    "    if t >= tmax:\n",
    "        break\n",
    "    \n",
    "    if n%nout == 0:\n",
    "        print('{0}th Time step {1:05.2f}'.format(n, t))\n",
    "        PlotSavefig(x, P_new, t, L)\n",
    "\n",
    "            \n",
    "PlotSavefig(x, P_new, t, L)\n",
    "plt.show()"
   ]
  },
  {
   "cell_type": "code",
   "execution_count": null,
   "id": "bb6195e9",
   "metadata": {},
   "outputs": [],
   "source": []
  }
 ],
 "metadata": {
  "kernelspec": {
   "display_name": "Python 3 (ipykernel)",
   "language": "python",
   "name": "python3"
  },
  "language_info": {
   "codemirror_mode": {
    "name": "ipython",
    "version": 3
   },
   "file_extension": ".py",
   "mimetype": "text/x-python",
   "name": "python",
   "nbconvert_exporter": "python",
   "pygments_lexer": "ipython3",
   "version": "3.9.7"
  }
 },
 "nbformat": 4,
 "nbformat_minor": 5
}
