{
 "cells": [
  {
   "cell_type": "code",
   "execution_count": null,
   "metadata": {
    "id": "YrobCH5Y1QVx"
   },
   "outputs": [],
   "source": [
    "import matplotlib.pyplot as plt\n",
    "import numpy as np"
   ]
  },
  {
   "cell_type": "code",
   "execution_count": null,
   "metadata": {
    "id": "hz2eOMmy4l7c"
   },
   "outputs": [],
   "source": [
    "def PlotPhi(axis, x, phi, t):\n",
    "    axis.plot(x, phi, label = '{0:05.2f}[s]'.format(t))\n",
    "    axis.set_xlim([np.min(x), np.max(x)])\n",
    "    axis.set_ylim([-0.1, 1.1])\n",
    "    axis.set_xlabel('x [m]')\n",
    "    axis.set_ylabel('φ [-]')\n",
    "    return"
   ]
  },
  {
   "cell_type": "code",
   "execution_count": null,
   "metadata": {
    "id": "EX0cmBnDxqJE"
   },
   "outputs": [],
   "source": [
    "## Input Parameters\n",
    "c = 0.25 # Speed [m/s]\n",
    "x_left = -3 # left side of x coordinate[m]\n",
    "x_right= 10 # right side of x coordinate[m]\n",
    "x_num  = 150 # Number of Lattice points[-]\n",
    "t      = 0 #simulation time[s]\n",
    "dt     = 0.2# Simulation time step[s]\n",
    "t_max  = 40 # time to finish simulation[s]\n",
    "num_loop = 0 # Loop counter for simulation[-]\n",
    "num_out  = 25# plot ever num_out time step[-]"
   ]
  },
  {
   "cell_type": "code",
   "execution_count": null,
   "metadata": {
    "id": "KIVxjgoP1IT8"
   },
   "outputs": [],
   "source": [
    "## Initial Condition\n",
    "x = np.linspace(x_left, x_right, x_num, endpoint=True) # x coordinate system[m]\n",
    "phi_init = np.exp(-x**2) # initial distribution of phi"
   ]
  },
  {
   "cell_type": "code",
   "execution_count": null,
   "metadata": {
    "id": "HwBRCan55it9",
    "scrolled": false
   },
   "outputs": [],
   "source": [
    "## Simulation\n",
    "phi_old = np.copy(phi_init) # phi for nth time step\n",
    "phi_new = np.copy(phi_init) # phi for n+1th time step\n",
    "\n",
    "# figure for plot\n",
    "fig = plt.figure(figsize=(12, 7))\n",
    "ax_exact = fig.add_subplot(211)\n",
    "ax_num   = fig.add_subplot(212)\n",
    "ax_exact.set_title('Exact solution')\n",
    "ax_num.set_title('Numerical solution')\n",
    "fig.subplots_adjust(hspace = 0.5)\n",
    "PlotPhi(ax_exact, x, phi_init, t)\n",
    "PlotPhi(ax_num, x, phi_init, t)\n",
    "\n",
    "while True:\n",
    "    # exact solution\n",
    "    phi_exact = np.exp(-(x-c*t)**2) \n",
    "\n",
    "    # numerical solution\n",
    "    for i in range(1, x_num):\n",
    "        phi_new[i] = phi_old[i]#-Write Your Code Here-#\n",
    "  \n",
    "  \n",
    "    # update\n",
    "    phi_old[:] = phi_new[:]\n",
    "    num_loop = num_loop + 1\n",
    "    t      = t + dt\n",
    "\n",
    "    # judge time step and output\n",
    "    if t > t_max:\n",
    "        break\n",
    "    if num_loop%num_out == 0:\n",
    "        print('{0:03d}th iteration, {1:05.2f}[s]'.format(num_loop, t))\n",
    "        PlotPhi(ax_exact, x, phi_exact, t)\n",
    "        PlotPhi(ax_num, x, phi_new, t)\n",
    "\n",
    "ax_exact.legend(loc='upper left')\n",
    "ax_num.legend(loc='upper left')\n",
    "plt.show()"
   ]
  },
  {
   "cell_type": "code",
   "execution_count": null,
   "metadata": {
    "id": "8UNnaVf3HT_C"
   },
   "outputs": [],
   "source": []
  },
  {
   "cell_type": "code",
   "execution_count": null,
   "metadata": {},
   "outputs": [],
   "source": []
  }
 ],
 "metadata": {
  "colab": {
   "collapsed_sections": [],
   "name": "Advection_upwind.ipynb",
   "provenance": []
  },
  "kernelspec": {
   "display_name": "Python 3 (ipykernel)",
   "language": "python",
   "name": "python3"
  },
  "language_info": {
   "codemirror_mode": {
    "name": "ipython",
    "version": 3
   },
   "file_extension": ".py",
   "mimetype": "text/x-python",
   "name": "python",
   "nbconvert_exporter": "python",
   "pygments_lexer": "ipython3",
   "version": "3.9.7"
  }
 },
 "nbformat": 4,
 "nbformat_minor": 1
}
