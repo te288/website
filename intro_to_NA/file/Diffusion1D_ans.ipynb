{
 "cells": [
  {
   "cell_type": "code",
   "execution_count": null,
   "metadata": {
    "id": "TeZv2zWGvai_"
   },
   "outputs": [],
   "source": [
    "## 1次元拡散方程式を解くプログラム（解答）\n",
    "# このプログラムでは、各タイムステップごとの計算結果をpngファイルで出力保存します。"
   ]
  },
  {
   "cell_type": "code",
   "execution_count": null,
   "metadata": {
    "id": "UsU3pwNElpkf"
   },
   "outputs": [],
   "source": [
    "## Import Modules\n",
    "import numpy as np\n",
    "from scipy.stats import hmean\n",
    "import matplotlib.pyplot as plt"
   ]
  },
  {
   "cell_type": "code",
   "execution_count": null,
   "metadata": {
    "id": "Gy7pMo0xr9F8"
   },
   "outputs": [],
   "source": [
    "def PlotSavefig(x, P, t, L):\n",
    "  fig = plt.figure()\n",
    "  plt.plot(x, P_new, label='t={0:05.2f}'.format(t)) \n",
    "  plt.xlabel('x[m]')\n",
    "  plt.ylabel('Pressure [Pa]')\n",
    "  plt.xlim(0, L)\n",
    "  plt.ylim(-1,1)\n",
    "  plt.grid()\n",
    "  plt.title('Pressure Diffusion 1D@{0:05.2f}[s]'.format(t))\n",
    "#   fig.savefig('t={0:05.2f}.png'.format(t))\n",
    "#   plt.clf()"
   ]
  },
  {
   "cell_type": "code",
   "execution_count": null,
   "metadata": {
    "id": "4Q7PiD4Alt7Y"
   },
   "outputs": [],
   "source": [
    "## Input Parmeters\n",
    "L = 2*np.pi # Length of Reservoir[m]\n",
    "N = 10 # Number of Control Volume[-]\n",
    "k = 1*np.ones(N) # Permiability[m^2]\n",
    "phi = np.ones(N) # Porosity[m^2]\n",
    "c = np.ones(N) # Compressibility[Pa^-1]\n",
    "mu= 1 # Viscosity of Fluid[Pa^-1]\n",
    "dx = L/N # Size of Control Volume[m]\n",
    "x = np.zeros(N) # x coordinate[m]\n",
    "x[0] = dx/2\n",
    "for i in range(1, N):\n",
    "  x[i] = x[i-1] + dx\n",
    "\n",
    "## Parameters for Simulation\n",
    "tmax = 20 # Time to stop simlation [s]\n",
    "dt   = 0.005   # dt [s]\n",
    "nout = 500  # output result ever nout step[s]\n",
    "# Variable to decide Boundary condition\n",
    "# 1-> Neumann, 0-> Dirichlet\n",
    "B_right = 1 # Boundary at right(x = 0) \n",
    "B_left  = 1 # Boundary at Left (x = L)\n",
    "Pb_right = 0 # Pressure Value at x = 0\n",
    "Pb_left  = 0 # Pressure Value at x = L\n",
    "\n",
    "## Initial Conditions\n",
    "# P_init = np.ones(N)      # Initial Pressure\n",
    "P_init = np.sin(x)\n"
   ]
  },
  {
   "cell_type": "code",
   "execution_count": null,
   "metadata": {
    "colab": {
     "base_uri": "https://localhost:8080/",
     "height": 303
    },
    "id": "sbA6FjF8mfME",
    "outputId": "eb311665-1193-4875-e7b4-e1507125ce2b"
   },
   "outputs": [],
   "source": [
    "## Simulation\n",
    "P_old  = np.copy(P_init) # Pressure at n-th step\n",
    "P_new  = np.copy(P_init) # Pressure at n+1-th step\n",
    "t = 0\n",
    "n = 0\n",
    "\n",
    "# Plot Initial Condition\n",
    "PlotSavefig(x, P_new, t, L)\n",
    "while True:\n",
    "  for i in range(1, N-1): # for P[2] ~ P[N-1]\n",
    "    # alpha = #-# Write Your Code Here #-#\n",
    "    alpha = dt / (phi[i]*c[i])\n",
    "    lam_w = hmean([k[i-1], k[i]])/mu\n",
    "    lam_e = hmean([k[i+1], k[i]])/mu\n",
    "    # A = #-# Write Your Code Here #-#\n",
    "    # B = #-# Write Your Code Here #-#\n",
    "    # C = #-# Write Your Code Here #-#\n",
    "    A = lam_e * alpha / (dx**2)\n",
    "    C = lam_w * alpha / (dx**2)\n",
    "    B = 1 - A - C\n",
    "    P_new[i] = A*P_old[i-1] + B*P_old[i] + C*P_old[i+1]\n",
    "  \n",
    "  # P[0]\n",
    "  if B_left == 1: # Neumann Condition\n",
    "    alpha = dt / (phi[0]*c[0])\n",
    "    lam_w = hmean([k[0], k[0]])/mu\n",
    "    lam_e = hmean([k[0+1], k[0]])/mu\n",
    "    A = lam_e * alpha / (dx**2);C = lam_w * alpha / (dx**2)\n",
    "    B = 1 - A - C;\n",
    "    P_new[0] = A*P_old[1] + B*P_old[0] + C*P_old[0]\n",
    "  else: # Dirichlet Condition \n",
    "    alpha = dt / (phi[0]*c[0])\n",
    "    lam_w = hmean([k[0], k[0]])/mu\n",
    "    lam_e = hmean([k[0+1], k[0]])/mu\n",
    "    A = lam_e * alpha / (dx**2);C = lam_w * alpha / (dx**2)\n",
    "    B = 1 - A - C;\n",
    "    P_new[0] = A*P_old[1] + B*P_old[0] + C*(2*Pb_left - P_old[0])    \n",
    "  \n",
    "  # P[N-1]\n",
    "  if B_right == 1: # Neumann Condition\n",
    "    alpha = dt / (phi[N-1]*c[N-1])\n",
    "    lam_w = hmean([k[N-2], k[N-1]])/mu\n",
    "    lam_e = hmean([k[N-1], k[N-1]])/mu\n",
    "    A = lam_e * alpha / (dx**2);C = lam_w * alpha / (dx**2)\n",
    "    B = 1 - A - C;\n",
    "    P_new[N-1] = A*P_old[N-1] + B*P_old[N-1] + C*P_old[N-2]\n",
    "  else: # Dirichlet Condition \n",
    "    alpha = dt / (phi[N-1]*c[N-1])\n",
    "    lam_w = hmean([k[N-2], k[N-1]])/mu\n",
    "    lam_e = hmean([k[N-1], k[N-1]])/mu\n",
    "    A = lam_e * alpha / (dx**2);C = lam_w * alpha / (dx**2)\n",
    "    B = 1 - A - C;\n",
    "    P_new[N-1] = A*(2*Pb_right- P_old[N-1]) + B*P_old[N-1] + C*P_old[N-2]\n",
    "\n",
    "  # Update Values, time step and Add plot\n",
    "  P_old = np.copy(P_new)\n",
    "  t = t + dt\n",
    "  n = n + 1\n",
    "\n",
    "  if n%nout == 0:\n",
    "    print('{0}th Time step {1:05.2f}'.format(n, t))\n",
    "    PlotSavefig(x, P_new, t, L)\n",
    "\n",
    "  if t >= tmax:\n",
    "    break\n",
    "    \n",
    "PlotSavefig(x, P_new, t, L)\n",
    "plt.show()"
   ]
  },
  {
   "cell_type": "code",
   "execution_count": null,
   "metadata": {
    "id": "60E_9KvStgvA"
   },
   "outputs": [],
   "source": []
  }
 ],
 "metadata": {
  "colab": {
   "collapsed_sections": [],
   "name": "Diffusion1D_ans.ipynb",
   "provenance": []
  },
  "kernelspec": {
   "display_name": "Python 3 (ipykernel)",
   "language": "python",
   "name": "python3"
  },
  "language_info": {
   "codemirror_mode": {
    "name": "ipython",
    "version": 3
   },
   "file_extension": ".py",
   "mimetype": "text/x-python",
   "name": "python",
   "nbconvert_exporter": "python",
   "pygments_lexer": "ipython3",
   "version": "3.9.7"
  }
 },
 "nbformat": 4,
 "nbformat_minor": 1
}
