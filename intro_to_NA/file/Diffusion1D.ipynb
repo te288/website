{
  "nbformat": 4,
  "nbformat_minor": 0,
  "metadata": {
    "colab": {
      "name": "Diffusion1D.ipynb",
      "provenance": [],
      "collapsed_sections": []
    },
    "kernelspec": {
      "name": "python3",
      "display_name": "Python 3"
    },
    "language_info": {
      "name": "python"
    }
  },
  "cells": [
    {
      "cell_type": "code",
      "execution_count": null,
      "metadata": {
        "id": "UsU3pwNElpkf"
      },
      "outputs": [],
      "source": [
        "## Import Modules\n",
        "import numpy as np\n",
        "from scipy.stats import hmean\n",
        "import matplotlib.pyplot as plt"
      ]
    },
    {
      "cell_type": "code",
      "source": [
        "## Input Parmeters\n",
        "L = 2*np.pi # Length of Reservoir[m]\n",
        "N = 10 # Number of Control Volume[-]\n",
        "k = 1*np.ones(N) # Permiability[m^2]\n",
        "phi = np.ones(N) # Porosity[m^2]\n",
        "c = np.ones(N) # Compressibility[Pa^-1]\n",
        "mu= 1 # Viscosity of Fluid[Pa^-1]\n",
        "dx = L/N # Size of Control Volume[m]\n",
        "x = np.zeros(N) # x coordinate[m]\n",
        "x[0] = dx/2\n",
        "for i in range(1, N):\n",
        "  x[i] = x[i-1] + dx\n",
        "\n",
        "## Parameters for Simulation\n",
        "tmax = 20 # Time to stop simlation [s]\n",
        "dt   = 0.005   # dt [s]\n",
        "nout = 500  # output result ever nout step[s]\n",
        "# Variable to decide Boundary condition\n",
        "#  0-> Neumann, 1-> Dirichlet\n",
        "B_right = 1 # Boundary at right(x = 0) \n",
        "B_left  = 1 # Boundary at Left (x = L)\n",
        "Pb_right = 0 # Pressure Value at x = 0\n",
        "Pb_left  = 0 # Pressure Value at x = L\n",
        "\n",
        "## Initial Conditions\n",
        "# P_init = np.ones(N)      # Initial Pressure\n",
        "P_init = np.sin(x)"
      ],
      "metadata": {
        "id": "4Q7PiD4Alt7Y"
      },
      "execution_count": null,
      "outputs": []
    },
    {
      "cell_type": "code",
      "source": [
        "## Simulation\n",
        "P_old  = np.copy(P_init) # Pressure at n-th step\n",
        "P_new  = np.copy(P_init) # Pressure at n+1-th step\n",
        "t = 0\n",
        "n = 0\n",
        "plt.plot(x, P_new, label='t={0:05.2f}'.format(t)) # Plot Initial Condition\n",
        "while True:\n",
        "  for i in range(1, N-1): # for P[2] ~ P[N-1]\n",
        "    alpha = #-# Write Your Code Here #-#\n",
        "    lam_w = #-# Write Your Code Here #-#\n",
        "    lam_e = #-# Write Your Code Here #-#\n",
        "    A = #-# Write Your Code Here #-#\n",
        "    B = #-# Write Your Code Here #-#\n",
        "    C = #-# Write Your Code Here #-#\n",
        "    P_new[i] = A*P_old[i-1] + B*P_old[i] + C*P_old[i+1]\n",
        "  \n",
        "  # P[0]\n",
        "  if B_left == 1: # Neumann Condition\n",
        "    P_new[0] = #-# Write Your Code Here #-#\n",
        "  else: # Dirichlet Condition \n",
        "    P_new[0] = #-# Write Your Code Here #-#\n",
        "\n",
        "  # P[N-1]\n",
        "  if B_left == 1: # Neumann Condition\n",
        "    P_new[N-1] = #-# Write Your Code Here #-#\n",
        "  else: # Dirichlet Condition \n",
        "    P_new[N-1] = #-# Write Your Code Here #-#\n",
        "\n",
        "  # Update Values, time step and Add plot\n",
        "  P_old = np.copy(P_new)\n",
        "  t = t + dt\n",
        "  n = n + 1\n",
        "  if t >= tmax:\n",
        "    break\n",
        "  if n%nout == 0:\n",
        "    print('{0}th Time step {1:05.2f}'.format(n, t))\n",
        "    plt.plot(x, P_new, label='t={0:05.2f}'.format(t))\n",
        "\n",
        "    \n",
        "plt.plot(x, P_new, label='t={0:05.2f}'.format(t)) # Plot Final Distribution\n",
        "plt.title('Pressure Diffusion 1D')\n",
        "plt.ylabel('Pressure [Pa]')\n",
        "plt.xlim(0, L)\n",
        "plt.ylim(-1,1)\n",
        "plt.xlabel('x[m]')\n",
        "plt.legend()\n",
        "plt.show()"
      ],
      "metadata": {
        "id": "sbA6FjF8mfME"
      },
      "execution_count": null,
      "outputs": []
    }
  ]
}